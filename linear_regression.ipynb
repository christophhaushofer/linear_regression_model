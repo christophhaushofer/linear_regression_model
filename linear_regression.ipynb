{
 "cells": [
  {
   "cell_type": "markdown",
   "metadata": {},
   "source": [
    "# Linear Regression"
   ]
  },
  {
   "cell_type": "markdown",
   "metadata": {},
   "source": [
    "from Course: Databases and algorithms"
   ]
  },
  {
   "cell_type": "code",
   "execution_count": 5,
   "metadata": {},
   "outputs": [],
   "source": [
    "from __future__ import division    # do not round to int\n",
    "from collections import Counter\n",
    "import math\n",
    "import sys\n",
    "import matplotlib.pyplot as plt\n",
    "import pandas as pd"
   ]
  },
  {
   "cell_type": "code",
   "execution_count": null,
   "metadata": {},
   "outputs": [],
   "source": [
    "def printf(format, *args):\n",
    "    sys.stdout.write(format % args)\n",
    "\n",
    "def mean(x):     \n",
    "    return sum(x) / len(x)\n",
    "\n",
    "\n",
    "def dot(v, w):\n",
    "    \"\"\"v_1 * w_1 + ... + v_n * w_n\"\"\"\n",
    "    return sum(v_i * w_i for v_i, w_i in zip(v, w))\n",
    "\n",
    "def sum_of_squares(v):\n",
    "    \"\"\"v_1 * v_1 + ... + v_n * v_n\"\"\"\n",
    "    return dot(v, v)\n",
    "\n",
    "def de_mean(x):    \n",
    "    \"\"\"translate x by subtracting its mean (so the result has mean 0)\"\"\"\n",
    "    x_bar = mean(x)\n",
    "    return [x_i - x_bar for x_i in x]\n",
    "\n",
    "def variance(x):\n",
    "    \"\"\"assumes x has at least two elements\"\"\"    \n",
    "    n = len(x)\n",
    "    deviations = de_mean(x)\n",
    "    return sum_of_squares(deviations) / (n - 1) \n",
    "\n",
    "def standard_deviation(x):    \n",
    "    return math.sqrt(variance(x))\n",
    "\n",
    "def covariance(x, y):    \n",
    "    n = len(x)\n",
    "    return dot(de_mean(x), de_mean(y)) / (n - 1)\n",
    "\n",
    "def correlation(x, y):\n",
    "    stdev_x = standard_deviation(x)\n",
    "    stdev_y = standard_deviation(y)\n",
    "    if stdev_x > 0 and stdev_y > 0:\n",
    "        return covariance(x, y) / stdev_x / stdev_y\n",
    "    else:\n",
    "        return 0 # if no variation, correlation is zero\n",
    "\n",
    "# what the model should do\n",
    "\n",
    "def predict(alpha, beta, x_i):\n",
    "    return beta*x_i + alpha\n",
    "\n",
    "def error(alpha, beta, x_i, y_i):\n",
    "    return y_i - predict3(alpha, beta, x_i)\n",
    "\n",
    "def sum_of_squared_error(alpha, beta, x, y):\n",
    "    return sum(error(alpha, beta, x_i, y_i) ** 2 for x_i, y_i in zip(x,y))\n",
    "\n",
    "def least_squares_fit(x, y):\n",
    "    # skip the math ...\n",
    "    beta = correlation(x, y) * standard_deviation(y) / standard_deviation(x)\n",
    "    alpha = mean(y) - beta*mean(x)\n",
    "    return alpha, beta"
   ]
  },
  {
   "cell_type": "code",
   "execution_count": 19,
   "metadata": {},
   "outputs": [],
   "source": [
    "data = pd.read_csv('data.csv', sep=';')"
   ]
  },
  {
   "cell_type": "code",
   "execution_count": 26,
   "metadata": {},
   "outputs": [
    {
     "name": "stdout",
     "output_type": "stream",
     "text": [
      "       Origin Destination  Distance Duration\n",
      "0      London   Amsterdam       365    01:10\n",
      "1      London    Budapest      1462    02:20\n",
      "2      London  Bratislava      1285    02:15\n",
      "3  Bratislava       Paris      1096    02:05\n",
      "4  Bratislava      Berlin       517    01:15\n",
      "5      Vienna      Dublin      1686    02:50\n",
      "6      Vienna   Amsterdam       932    01:55\n",
      "7   Amsterdam    Budapest      1160    02:10\n",
      "8  Bratislava   Amsterdam       978      NaN\n"
     ]
    }
   ],
   "source": [
    "print(data)"
   ]
  },
  {
   "cell_type": "code",
   "execution_count": 27,
   "metadata": {},
   "outputs": [],
   "source": [
    "data.Duration = pd.to_datetime(data.Duration, format='%H:%M')"
   ]
  },
  {
   "cell_type": "code",
   "execution_count": 28,
   "metadata": {},
   "outputs": [
    {
     "data": {
      "text/plain": [
       "0   1900-01-01 01:10:00\n",
       "1   1900-01-01 02:20:00\n",
       "2   1900-01-01 02:15:00\n",
       "3   1900-01-01 02:05:00\n",
       "4   1900-01-01 01:15:00\n",
       "5   1900-01-01 02:50:00\n",
       "6   1900-01-01 01:55:00\n",
       "7   1900-01-01 02:10:00\n",
       "8                   NaT\n",
       "Name: Duration, dtype: datetime64[ns]"
      ]
     },
     "execution_count": 28,
     "metadata": {},
     "output_type": "execute_result"
    }
   ],
   "source": [
    "# convert into Datetime format\n",
    "t = data.Duration[0]\n",
    "a = pd.to_datetime(t, format='%H:%M')"
   ]
  },
  {
   "cell_type": "code",
   "execution_count": 60,
   "metadata": {},
   "outputs": [
    {
     "name": "stdout",
     "output_type": "stream",
     "text": [
      "[70, 140, 135, 125, 75, 170, 115, 130, nan]\n"
     ]
    }
   ],
   "source": [
    "# calculate duration in minutes and make minutes vector\n",
    "duration_min = []\n",
    "for index, row in data.iterrows():\n",
    "     duration_min.append(data.Duration[index].hour * 60 + data.Duration[index].minute)"
   ]
  },
  {
   "cell_type": "code",
   "execution_count": 63,
   "metadata": {},
   "outputs": [
    {
     "name": "stdout",
     "output_type": "stream",
     "text": [
      "[365, 1462, 1285, 1096, 517, 1686, 932, 1160, 978]\n"
     ]
    }
   ],
   "source": [
    "# make distance vector\n",
    "distance = []\n",
    "for index, row in data.iterrows():\n",
    "     distance.append(data.Distance[index])"
   ]
  },
  {
   "cell_type": "code",
   "execution_count": 64,
   "metadata": {},
   "outputs": [
    {
     "data": {
      "image/png": "[encoded data removed]",
      "text/plain": [
       "<Figure size 432x288 with 1 Axes>"
      ]
     },
     "metadata": {
      "needs_background": "light"
     },
     "output_type": "display_data"
    }
   ],
   "source": [
    "plt.scatter(duration_min, distance)\n",
    "plt.title(\"Correlation distance and duration\")\n",
    "plt.xlabel(\"minutes\")\n",
    "plt.ylabel(\"km\")\n",
    "\n",
    "plt.show()"
   ]
  },
  {
   "cell_type": "code",
   "execution_count": 127,
   "metadata": {},
   "outputs": [],
   "source": [
    "# substract 40 minutes for start and landing, considered constant\n",
    "duration_forecast = [x - 40 for x in duration_min[:-1]]"
   ]
  },
  {
   "cell_type": "code",
   "execution_count": 128,
   "metadata": {},
   "outputs": [],
   "source": [
    "# estimation parameters alpha and beta\n",
    "alpha, beta = least_squares_fit(distance[:-1], duration_forecast)"
   ]
  },
  {
   "cell_type": "code",
   "execution_count": 133,
   "metadata": {},
   "outputs": [
    {
     "data": {
      "image/png": "[encoded data removed]",
      "text/plain": [
       "<Figure size 432x288 with 1 Axes>"
      ]
     },
     "metadata": {
      "needs_background": "light"
     },
     "output_type": "display_data"
    }
   ],
   "source": [
    "plt.scatter(distance[:-1], duration_forecast)\n",
    "plt.title(\"Correlation distance and duration\")\n",
    "plt.xlabel(\"km\")\n",
    "plt.ylabel(\"minutes\")\n",
    "\n",
    "# [x1, x2], [y1, y2]\n",
    "plt.plot([0,2000],[alpha,predict(alpha,beta,2000)], 'k-')\n",
    "\n",
    "plt.show()"
   ]
  },
  {
   "cell_type": "code",
   "execution_count": 150,
   "metadata": {},
   "outputs": [
    {
     "data": {
      "text/plain": [
       "73.75476766651506"
      ]
     },
     "execution_count": 150,
     "metadata": {},
     "output_type": "execute_result"
    }
   ],
   "source": [
    "# Forecast für InFlight Time\n",
    "x = predict(alpha,beta,distance[-1])"
   ]
  },
  {
   "cell_type": "code",
   "execution_count": 151,
   "metadata": {},
   "outputs": [
    {
     "data": {
      "image/png": "[encoded data removed]",
      "text/plain": [
       "<Figure size 432x288 with 1 Axes>"
      ]
     },
     "metadata": {
      "needs_background": "light"
     },
     "output_type": "display_data"
    }
   ],
   "source": [
    "plt.scatter(distance[:-1], duration_forecast)\n",
    "plt.scatter(distance[-1], x)\n",
    "plt.title(\"Correlation distance and duration\")\n",
    "plt.xlabel(\"km\")\n",
    "plt.ylabel(\"minutes\")\n",
    "\n",
    "# [x1, x2], [y1, y2]\n",
    "plt.plot([0,2000],[alpha,predict(alpha,beta,2000)], 'k-')\n",
    "\n",
    "plt.show()"
   ]
  }
 ],
 "metadata": {
  "kernelspec": {
   "display_name": "Python 3",
   "language": "python",
   "name": "python3"
  },
  "language_info": {
   "codemirror_mode": {
    "name": "ipython",
    "version": 3
   },
   "file_extension": ".py",
   "mimetype": "text/x-python",
   "name": "python",
   "nbconvert_exporter": "python",
   "pygments_lexer": "ipython3",
   "version": "3.7.0"
  }
 },
 "nbformat": 4,
 "nbformat_minor": 2
}
